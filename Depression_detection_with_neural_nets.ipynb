{
  "metadata": {
    "kernelspec": {
      "language": "python",
      "display_name": "Python 3",
      "name": "python3"
    },
    "language_info": {
      "name": "python",
      "version": "3.7.6",
      "mimetype": "text/x-python",
      "codemirror_mode": {
        "name": "ipython",
        "version": 3
      },
      "pygments_lexer": "ipython3",
      "nbconvert_exporter": "python",
      "file_extension": ".py"
    },
    "kaggle": {
      "accelerator": "none",
      "dataSources": [
        {
          "sourceId": 864483,
          "sourceType": "datasetVersion",
          "datasetId": 459013
        }
      ],
      "dockerImageVersionId": 29907,
      "isInternetEnabled": true,
      "language": "python",
      "sourceType": "notebook",
      "isGpuEnabled": false
    },
    "colab": {
      "name": "Depression detection with neural nets",
      "provenance": [],
      "include_colab_link": true
    }
  },
  "nbformat_minor": 0,
  "nbformat": 4,
  "cells": [
    {
      "cell_type": "markdown",
      "metadata": {
        "id": "view-in-github",
        "colab_type": "text"
      },
      "source": [
        "<a href=\"https://colab.research.google.com/github/ReVuz/Machine_Learning/blob/main/Depression_detection_with_neural_nets.ipynb\" target=\"_parent\"><img src=\"https://colab.research.google.com/assets/colab-badge.svg\" alt=\"Open In Colab\"/></a>"
      ]
    },
    {
      "source": [
        "\n",
        "# IMPORTANT: RUN THIS CELL IN ORDER TO IMPORT YOUR KAGGLE DATA SOURCES\n",
        "# TO THE CORRECT LOCATION (/kaggle/input) IN YOUR NOTEBOOK,\n",
        "# THEN FEEL FREE TO DELETE THIS CELL.\n",
        "# NOTE: THIS NOTEBOOK ENVIRONMENT DIFFERS FROM KAGGLE'S PYTHON\n",
        "# ENVIRONMENT SO THERE MAY BE MISSING LIBRARIES USED BY YOUR\n",
        "# NOTEBOOK.\n",
        "\n",
        "import os\n",
        "import sys\n",
        "from tempfile import NamedTemporaryFile\n",
        "from urllib.request import urlopen\n",
        "from urllib.parse import unquote, urlparse\n",
        "from urllib.error import HTTPError\n",
        "from zipfile import ZipFile\n",
        "import tarfile\n",
        "import shutil\n",
        "\n",
        "CHUNK_SIZE = 40960\n",
        "DATA_SOURCE_MAPPING = 'depression:https%3A%2F%2Fstorage.googleapis.com%2Fkaggle-data-sets%2F459013%2F864483%2Fbundle%2Farchive.zip%3FX-Goog-Algorithm%3DGOOG4-RSA-SHA256%26X-Goog-Credential%3Dgcp-kaggle-com%2540kaggle-161607.iam.gserviceaccount.com%252F20240420%252Fauto%252Fstorage%252Fgoog4_request%26X-Goog-Date%3D20240420T143854Z%26X-Goog-Expires%3D259200%26X-Goog-SignedHeaders%3Dhost%26X-Goog-Signature%3Db988d33af4eb676fe68e119db1f569b5f7b8e2bd301fd20695ddd52bb409e9c65bcc1871189fb85ce020f189d259164adb138dbd6b27c2c68df30e089ee8746cbd8f260e1647c1d98db4b8ea186d1e41a0df79ba2a6faa0a0b1554f219a3840a54c4e8088ed450be4da4807c4d0b4ed8978743651547fdb63c496f49ae1db76b230ca5e137f387ec90c7448173b9c77ad6abbecde3c19d3585a0ee234f8c735db6252b3ad1600736d8f568d85752648c6591210163099aa169864689e397032b9cce9398daf1c3dfe1b43b0ca3ff650e31ccc82bbbe8e7eb4a13d48f124e97d28b2afd36c31a291d47c99b25e33b57bfe443840471cea1a7c9d65ff38d4a66cb'\n",
        "\n",
        "KAGGLE_INPUT_PATH='/kaggle/input'\n",
        "KAGGLE_WORKING_PATH='/kaggle/working'\n",
        "KAGGLE_SYMLINK='kaggle'\n",
        "\n",
        "!umount /kaggle/input/ 2> /dev/null\n",
        "shutil.rmtree('/kaggle/input', ignore_errors=True)\n",
        "os.makedirs(KAGGLE_INPUT_PATH, 0o777, exist_ok=True)\n",
        "os.makedirs(KAGGLE_WORKING_PATH, 0o777, exist_ok=True)\n",
        "\n",
        "try:\n",
        "  os.symlink(KAGGLE_INPUT_PATH, os.path.join(\"..\", 'input'), target_is_directory=True)\n",
        "except FileExistsError:\n",
        "  pass\n",
        "try:\n",
        "  os.symlink(KAGGLE_WORKING_PATH, os.path.join(\"..\", 'working'), target_is_directory=True)\n",
        "except FileExistsError:\n",
        "  pass\n",
        "\n",
        "for data_source_mapping in DATA_SOURCE_MAPPING.split(','):\n",
        "    directory, download_url_encoded = data_source_mapping.split(':')\n",
        "    download_url = unquote(download_url_encoded)\n",
        "    filename = urlparse(download_url).path\n",
        "    destination_path = os.path.join(KAGGLE_INPUT_PATH, directory)\n",
        "    try:\n",
        "        with urlopen(download_url) as fileres, NamedTemporaryFile() as tfile:\n",
        "            total_length = fileres.headers['content-length']\n",
        "            print(f'Downloading {directory}, {total_length} bytes compressed')\n",
        "            dl = 0\n",
        "            data = fileres.read(CHUNK_SIZE)\n",
        "            while len(data) > 0:\n",
        "                dl += len(data)\n",
        "                tfile.write(data)\n",
        "                done = int(50 * dl / int(total_length))\n",
        "                sys.stdout.write(f\"\\r[{'=' * done}{' ' * (50-done)}] {dl} bytes downloaded\")\n",
        "                sys.stdout.flush()\n",
        "                data = fileres.read(CHUNK_SIZE)\n",
        "            if filename.endswith('.zip'):\n",
        "              with ZipFile(tfile) as zfile:\n",
        "                zfile.extractall(destination_path)\n",
        "            else:\n",
        "              with tarfile.open(tfile.name) as tarfile:\n",
        "                tarfile.extractall(destination_path)\n",
        "            print(f'\\nDownloaded and uncompressed: {directory}')\n",
        "    except HTTPError as e:\n",
        "        print(f'Failed to load (likely expired) {download_url} to path {destination_path}')\n",
        "        continue\n",
        "    except OSError as e:\n",
        "        print(f'Failed to load {download_url} to path {destination_path}')\n",
        "        continue\n",
        "\n",
        "print('Data source import complete.')\n"
      ],
      "metadata": {
        "id": "l4ev_txu8nxl"
      },
      "cell_type": "code",
      "outputs": [],
      "execution_count": null
    },
    {
      "cell_type": "code",
      "source": [
        "# This Python 3 environment comes with many helpful analytics libraries installed\n",
        "# It is defined by the kaggle/python Docker image: https://github.com/kaggle/docker-python\n",
        "# For example, here's several helpful packages to load\n",
        "\n",
        "import numpy as np # linear algebra\n",
        "import pandas as pd # data processing, CSV file I/O (e.g. pd.read_csv)\n",
        "\n",
        "# Input data files are available in the read-only \"../input/\" directory\n",
        "# For example, running this (by clicking run or pressing Shift+Enter) will list all files under the input directory\n",
        "\n",
        "import os\n",
        "for dirname, _, filenames in os.walk('/kaggle/input'):\n",
        "    for filename in filenames:\n",
        "        print(os.path.join(dirname, filename))\n",
        "\n",
        "# You can write up to 5GB to the current directory (/kaggle/working/) that gets preserved as output when you create a version using \"Save & Run All\"\n",
        "# You can also write temporary files to /kaggle/temp/, but they won't be saved outside of the current session"
      ],
      "metadata": {
        "_uuid": "8f2839f25d086af736a60e9eeb907d3b93b6e0e5",
        "_cell_guid": "b1076dfc-b9ad-4769-8c92-a6c4dae69d19",
        "execution": {
          "iopub.status.busy": "2024-04-18T19:19:08.44494Z",
          "iopub.execute_input": "2024-04-18T19:19:08.445443Z",
          "iopub.status.idle": "2024-04-18T19:19:08.459588Z",
          "shell.execute_reply.started": "2024-04-18T19:19:08.445376Z",
          "shell.execute_reply": "2024-04-18T19:19:08.458307Z"
        },
        "trusted": true,
        "id": "Bi_6f8QT8nxt"
      },
      "execution_count": null,
      "outputs": []
    },
    {
      "cell_type": "code",
      "source": [
        "from sklearn.preprocessing import StandardScaler\n",
        "from sklearn.model_selection import train_test_split, GridSearchCV\n",
        "from sklearn.metrics import accuracy_score, confusion_matrix, plot_confusion_matrix, precision_score, recall_score, f1_score\n",
        "from sklearn.neural_network import MLPClassifier\n",
        "from sklearn.pipeline import Pipeline\n",
        "from imblearn.over_sampling import RandomOverSampler\n",
        "import matplotlib.pyplot as plt\n",
        "\n",
        "np.random.seed(1)"
      ],
      "metadata": {
        "execution": {
          "iopub.status.busy": "2024-04-18T19:19:08.489368Z",
          "iopub.execute_input": "2024-04-18T19:19:08.49017Z",
          "iopub.status.idle": "2024-04-18T19:19:08.496303Z",
          "shell.execute_reply.started": "2024-04-18T19:19:08.490115Z",
          "shell.execute_reply": "2024-04-18T19:19:08.495471Z"
        },
        "trusted": true,
        "id": "jFHTkUJJ8nxv"
      },
      "execution_count": null,
      "outputs": []
    },
    {
      "cell_type": "code",
      "source": [
        "def print_results(y_true, y_pred):\n",
        "    print(confusion_matrix(y_true, y_pred))\n",
        "    print('F1-score:', f1_score(y_true, y_pred))"
      ],
      "metadata": {
        "execution": {
          "iopub.status.busy": "2024-04-18T19:19:08.513943Z",
          "iopub.execute_input": "2024-04-18T19:19:08.514602Z",
          "iopub.status.idle": "2024-04-18T19:19:08.519496Z",
          "shell.execute_reply.started": "2024-04-18T19:19:08.51455Z",
          "shell.execute_reply": "2024-04-18T19:19:08.518532Z"
        },
        "trusted": true,
        "id": "EwGHrjMx8nxw"
      },
      "execution_count": null,
      "outputs": []
    },
    {
      "cell_type": "code",
      "source": [
        "# If provided, it should be a list or array containing specific values\n",
        "#of the hyperparameter for which the validation curve is to be plotted.\n",
        "#If not provided, the function extracts the hyperparameter values from 'model_grid'.\n",
        "\n",
        "def plot_validation_curve(model_grid, param_name, params=None):\n",
        "\n",
        "    results_df = pd.DataFrame(model_grid.cv_results_)\n",
        "\n",
        "    if params == None:\n",
        "        plt.plot(results_df['param_'+param_name], results_df['mean_test_score'])\n",
        "    else:\n",
        "        plt.plot(params, results_df['mean_test_score'])\n",
        "\n",
        "    plt.xlabel(param_name)\n",
        "    plt.ylabel('Test F1 score')\n",
        "    plt.title('Validation curve')\n",
        "    plt.show()"
      ],
      "metadata": {
        "execution": {
          "iopub.status.busy": "2024-04-18T19:19:08.549353Z",
          "iopub.execute_input": "2024-04-18T19:19:08.550099Z",
          "iopub.status.idle": "2024-04-18T19:19:08.557103Z",
          "shell.execute_reply.started": "2024-04-18T19:19:08.550041Z",
          "shell.execute_reply": "2024-04-18T19:19:08.556075Z"
        },
        "trusted": true,
        "id": "BibZoKzd8nxw"
      },
      "execution_count": null,
      "outputs": []
    },
    {
      "cell_type": "code",
      "source": [
        "df = pd.read_csv('/kaggle/input/depression/b_depressed.csv')\n",
        "df.head()"
      ],
      "metadata": {
        "_uuid": "d629ff2d2480ee46fbb7e2d37f6b5fab8052498a",
        "_cell_guid": "79c7e3d0-c299-4dcb-8224-4455121ee9b0",
        "execution": {
          "iopub.status.busy": "2024-04-18T19:19:08.573967Z",
          "iopub.execute_input": "2024-04-18T19:19:08.574701Z",
          "iopub.status.idle": "2024-04-18T19:19:08.605772Z",
          "shell.execute_reply.started": "2024-04-18T19:19:08.574646Z",
          "shell.execute_reply": "2024-04-18T19:19:08.604943Z"
        },
        "trusted": true,
        "id": "QJHwBpNN8nxx"
      },
      "execution_count": null,
      "outputs": []
    },
    {
      "cell_type": "code",
      "source": [
        "df.describe()"
      ],
      "metadata": {
        "execution": {
          "iopub.status.busy": "2024-04-18T19:19:08.607177Z",
          "iopub.execute_input": "2024-04-18T19:19:08.607634Z",
          "iopub.status.idle": "2024-04-18T19:19:08.69774Z",
          "shell.execute_reply.started": "2024-04-18T19:19:08.607591Z",
          "shell.execute_reply": "2024-04-18T19:19:08.696466Z"
        },
        "trusted": true,
        "id": "bjVQHdEu8nxy"
      },
      "execution_count": null,
      "outputs": []
    },
    {
      "cell_type": "code",
      "source": [
        "#droping missing values\n",
        "df_1 = df.dropna()\n",
        "#removing columns\n",
        "df_2 = df_1.drop(['Survey_id', 'depressed'], axis=1)\n",
        "#adding dummy values to categorical columns\n",
        "df_3 = pd.get_dummies(df_2, columns=['Ville_id', 'education_level'])\n",
        "df_3.head()"
      ],
      "metadata": {
        "execution": {
          "iopub.status.busy": "2024-04-18T19:19:08.69962Z",
          "iopub.execute_input": "2024-04-18T19:19:08.700004Z",
          "iopub.status.idle": "2024-04-18T19:19:08.731062Z",
          "shell.execute_reply.started": "2024-04-18T19:19:08.699945Z",
          "shell.execute_reply": "2024-04-18T19:19:08.730269Z"
        },
        "trusted": true,
        "id": "0Ox9P-RI8nxz"
      },
      "execution_count": null,
      "outputs": []
    },
    {
      "cell_type": "code",
      "source": [
        "#independent variable\n",
        "X = df_3\n",
        "#dependent variable\n",
        "y = df_1['depressed']\n",
        "#dividing into train-test data\n",
        "X_train, X_valid, y_train, y_valid = train_test_split(X, y, test_size=0.25, random_state=1)"
      ],
      "metadata": {
        "execution": {
          "iopub.status.busy": "2024-04-18T19:19:08.732368Z",
          "iopub.execute_input": "2024-04-18T19:19:08.732824Z",
          "iopub.status.idle": "2024-04-18T19:19:08.74313Z",
          "shell.execute_reply.started": "2024-04-18T19:19:08.732776Z",
          "shell.execute_reply": "2024-04-18T19:19:08.742Z"
        },
        "trusted": true,
        "id": "sYlcTX8o8nxz"
      },
      "execution_count": null,
      "outputs": []
    },
    {
      "cell_type": "code",
      "source": [
        "#Scaling ensures that all features are on a comparable scale and have similar ranges\n",
        "\n",
        "#Used for standardization of features by removing the mean and scaling to unit variance.\n",
        "scaler = StandardScaler()\n",
        "\n",
        "#computes the mean and standard deviation necessary for standardization\n",
        "scaler.fit(X_train)\n",
        "\n",
        "# transform (standardize) the features using the mean and sd from training set.\n",
        "X_train = scaler.transform(X_train)\n",
        "X_valid = scaler.transform(X_valid)"
      ],
      "metadata": {
        "execution": {
          "iopub.status.busy": "2024-04-18T19:19:08.744429Z",
          "iopub.execute_input": "2024-04-18T19:19:08.744859Z",
          "iopub.status.idle": "2024-04-18T19:19:08.762641Z",
          "shell.execute_reply.started": "2024-04-18T19:19:08.744799Z",
          "shell.execute_reply": "2024-04-18T19:19:08.761709Z"
        },
        "trusted": true,
        "id": "eDLLk0w68nx0"
      },
      "execution_count": null,
      "outputs": []
    },
    {
      "cell_type": "code",
      "source": [
        "#MLP can learn complex patterns in data, making it suitable for tasks like classification and regression.\n",
        "#Multi-layer Perceptron : Neural Network Architecture that has input, output and hidden layers\n",
        "\n",
        "#Limited-memory BFGS algorithm\n",
        "mlp = MLPClassifier(solver='lbfgs')\n",
        "mlp.fit(X_train, y_train)\n",
        "\n",
        "y_pred = mlp.predict(X_valid)\n",
        "print_results(y_valid, y_pred) # log_reg: ~0.2"
      ],
      "metadata": {
        "execution": {
          "iopub.status.busy": "2024-04-18T19:19:08.765021Z",
          "iopub.execute_input": "2024-04-18T19:19:08.76536Z",
          "iopub.status.idle": "2024-04-18T19:19:09.256887Z",
          "shell.execute_reply.started": "2024-04-18T19:19:08.765304Z",
          "shell.execute_reply": "2024-04-18T19:19:09.255636Z"
        },
        "trusted": true,
        "id": "aP8vS8hD8nx1"
      },
      "execution_count": null,
      "outputs": []
    },
    {
      "cell_type": "code",
      "source": [
        "# splitting the scaled data into training and validation sets\n",
        "#ensures that all features have a mean of approximately 0 and a standard deviation of 1.\n",
        "X_sc = scaler.fit_transform(X)\n",
        "X_train1, X_valid1, y_train1, y_valid1 = train_test_split(X_sc, y, test_size=0.25, random_state=1)"
      ],
      "metadata": {
        "execution": {
          "iopub.status.busy": "2024-04-18T19:19:09.264153Z",
          "iopub.execute_input": "2024-04-18T19:19:09.267948Z",
          "iopub.status.idle": "2024-04-18T19:19:09.300507Z",
          "shell.execute_reply.started": "2024-04-18T19:19:09.267845Z",
          "shell.execute_reply": "2024-04-18T19:19:09.299368Z"
        },
        "trusted": true,
        "id": "Fg7t90V58nx1"
      },
      "execution_count": null,
      "outputs": []
    },
    {
      "cell_type": "code",
      "source": [
        "#Training MLP\n",
        "\n",
        "mlp = MLPClassifier(solver='lbfgs')\n",
        "mlp.fit(X_train1, y_train1)\n",
        "\n",
        "y_pred1 = mlp.predict(X_valid1)\n",
        "print_results(y_valid1, y_pred1) # log_reg: ~0.2"
      ],
      "metadata": {
        "execution": {
          "iopub.status.busy": "2024-04-18T19:19:09.306955Z",
          "iopub.execute_input": "2024-04-18T19:19:09.310633Z",
          "iopub.status.idle": "2024-04-18T19:19:09.777258Z",
          "shell.execute_reply.started": "2024-04-18T19:19:09.310538Z",
          "shell.execute_reply": "2024-04-18T19:19:09.776119Z"
        },
        "trusted": true,
        "id": "vF5MSCik8nx1"
      },
      "execution_count": null,
      "outputs": []
    },
    {
      "cell_type": "code",
      "source": [
        "#one hideen layer with 200 neurons\n",
        "#alpha = 0.1  : L2 penalty (regularization term) parameter.\n",
        "\n",
        "mlp_2 = MLPClassifier(hidden_layer_sizes=(200,), solver='lbfgs', max_iter=400, alpha=0.1)\n",
        "mlp_2.fit(X_train, y_train)\n",
        "\n",
        "y_pred = mlp.predict(X_valid)\n",
        "print_results(y_pred, y_valid) # log_reg: ~0.2"
      ],
      "metadata": {
        "execution": {
          "iopub.status.busy": "2024-04-18T19:19:09.783991Z",
          "iopub.execute_input": "2024-04-18T19:19:09.787654Z",
          "iopub.status.idle": "2024-04-18T19:19:14.278491Z",
          "shell.execute_reply.started": "2024-04-18T19:19:09.787564Z",
          "shell.execute_reply": "2024-04-18T19:19:14.277453Z"
        },
        "trusted": true,
        "id": "kGxFlaAu8nx1"
      },
      "execution_count": null,
      "outputs": []
    },
    {
      "cell_type": "code",
      "source": [
        "mlp_2.n_iter_"
      ],
      "metadata": {
        "execution": {
          "iopub.status.busy": "2024-04-18T19:19:14.282329Z",
          "iopub.execute_input": "2024-04-18T19:19:14.283287Z",
          "iopub.status.idle": "2024-04-18T19:19:14.290084Z",
          "shell.execute_reply.started": "2024-04-18T19:19:14.283213Z",
          "shell.execute_reply": "2024-04-18T19:19:14.289071Z"
        },
        "trusted": true,
        "id": "v97PjvWE8nx2"
      },
      "execution_count": null,
      "outputs": []
    },
    {
      "cell_type": "code",
      "source": [
        "#Class imbalance occurs when the distribution of classes in your dataset is uneven, with one class significantly outnumbering one or more other classes.\n",
        "#randomly replicates minority class samples to balance the class distribution in the training data\n",
        "#Creating an Instance of Random Over Sampler\n",
        "ros = RandomOverSampler()\n",
        "\n",
        "X_ros, y_ros = ros.fit_sample(X_train, y_train)"
      ],
      "metadata": {
        "execution": {
          "iopub.status.busy": "2024-04-18T19:19:14.293457Z",
          "iopub.execute_input": "2024-04-18T19:19:14.294771Z",
          "iopub.status.idle": "2024-04-18T19:19:14.306677Z",
          "shell.execute_reply.started": "2024-04-18T19:19:14.294691Z",
          "shell.execute_reply": "2024-04-18T19:19:14.305504Z"
        },
        "trusted": true,
        "id": "yo6nvupd8nx2"
      },
      "execution_count": null,
      "outputs": []
    },
    {
      "cell_type": "code",
      "source": [
        "#Training MLP\n",
        "\n",
        "mlp_3 = MLPClassifier(hidden_layer_sizes=(200,), solver='lbfgs', max_iter=400, alpha=0.1)\n",
        "mlp_3.fit(X_ros, y_ros)\n",
        "\n",
        "y_pred = mlp_3.predict(X_valid)\n",
        "print_results(y_pred, y_valid) # log_reg: ~0.2"
      ],
      "metadata": {
        "execution": {
          "iopub.status.busy": "2024-04-18T19:19:14.308461Z",
          "iopub.execute_input": "2024-04-18T19:19:14.309176Z",
          "iopub.status.idle": "2024-04-18T19:19:19.278326Z",
          "shell.execute_reply.started": "2024-04-18T19:19:14.309117Z",
          "shell.execute_reply": "2024-04-18T19:19:19.277271Z"
        },
        "trusted": true,
        "id": "kEmT0OLM8nx2"
      },
      "execution_count": null,
      "outputs": []
    },
    {
      "cell_type": "code",
      "source": [
        "mlp_4 = MLPClassifier(hidden_layer_sizes=(100, 50, 20), solver='lbfgs', alpha=0.001)\n",
        "mlp_4.fit(X_ros, y_ros)\n",
        "\n",
        "y_pred = mlp_4.predict(X_valid)\n",
        "print(confusion_matrix(y_valid, y_pred))\n",
        "print('F1-score:', f1_score(y_valid, y_pred)) # log_reg: ~0.2"
      ],
      "metadata": {
        "execution": {
          "iopub.status.busy": "2024-04-18T19:19:19.280293Z",
          "iopub.execute_input": "2024-04-18T19:19:19.281092Z",
          "iopub.status.idle": "2024-04-18T19:19:20.476628Z",
          "shell.execute_reply.started": "2024-04-18T19:19:19.281019Z",
          "shell.execute_reply": "2024-04-18T19:19:20.475514Z"
        },
        "trusted": true,
        "id": "f7x-ooZS8nx2"
      },
      "execution_count": null,
      "outputs": []
    },
    {
      "cell_type": "code",
      "source": [
        "#Pipeline to standardize the features and then apply mlp\n",
        "#Pipelines automate repetitive tasks, making the machine learning workflow more efficient\n",
        "scaler = StandardScaler()\n",
        "mlp = MLPClassifier(solver='lbfgs')\n",
        "model = Pipeline([('scaler', scaler), ('mlp', mlp)])\n",
        "\n",
        "X_train, X_test, y_train, y_test = train_test_split(X, y, test_size=0.25)\n",
        "\n",
        "model.fit(X_train, y_train)\n",
        "\n",
        "y_pred = model.predict(X_test)\n",
        "print(confusion_matrix(y_test, y_pred))\n",
        "print('F1-score:', f1_score(y_test, y_pred))"
      ],
      "metadata": {
        "execution": {
          "iopub.status.busy": "2024-04-18T19:19:20.478775Z",
          "iopub.execute_input": "2024-04-18T19:19:20.479606Z",
          "iopub.status.idle": "2024-04-18T19:19:20.944855Z",
          "shell.execute_reply.started": "2024-04-18T19:19:20.479542Z",
          "shell.execute_reply": "2024-04-18T19:19:20.94389Z"
        },
        "trusted": true,
        "id": "YmiCFdKU8nx2"
      },
      "execution_count": null,
      "outputs": []
    },
    {
      "cell_type": "code",
      "source": [
        "#Hyperparameter Tuning\n",
        "#generates 10 values for alpha logarithmically spaced between 10^-4 and 10^4.\n",
        "param_grid = {'mlp__alpha': np.logspace(-4, 4, 10)}\n",
        "model_grid = GridSearchCV(model, param_grid, cv=5, scoring='f1',\n",
        "                          n_jobs=-1) #n_jobs = -1 : Utilizes all available processors for parallelizing the grid search computation.\n",
        "model_grid.fit(X_train, y_train)"
      ],
      "metadata": {
        "execution": {
          "iopub.status.busy": "2024-04-18T19:19:20.946611Z",
          "iopub.execute_input": "2024-04-18T19:19:20.947357Z",
          "iopub.status.idle": "2024-04-18T19:19:42.691448Z",
          "shell.execute_reply.started": "2024-04-18T19:19:20.947286Z",
          "shell.execute_reply": "2024-04-18T19:19:42.690233Z"
        },
        "trusted": true,
        "id": "Yd9gdq0v8nx2"
      },
      "execution_count": null,
      "outputs": []
    },
    {
      "cell_type": "code",
      "source": [
        "plot_validation_curve(model_grid, 'mlp__alpha')"
      ],
      "metadata": {
        "execution": {
          "iopub.status.busy": "2024-04-18T19:19:42.693528Z",
          "iopub.execute_input": "2024-04-18T19:19:42.694308Z",
          "iopub.status.idle": "2024-04-18T19:19:42.917076Z",
          "shell.execute_reply.started": "2024-04-18T19:19:42.694245Z",
          "shell.execute_reply": "2024-04-18T19:19:42.91552Z"
        },
        "trusted": true,
        "id": "MbJRvE5B8nx2"
      },
      "execution_count": null,
      "outputs": []
    },
    {
      "cell_type": "code",
      "source": [
        "print('Best (hyper)parameters:', model_grid.best_params_)\n",
        "print('Best score:', model_grid.best_score_)"
      ],
      "metadata": {
        "execution": {
          "iopub.status.busy": "2024-04-18T19:19:42.919201Z",
          "iopub.execute_input": "2024-04-18T19:19:42.919741Z",
          "iopub.status.idle": "2024-04-18T19:19:42.927097Z",
          "shell.execute_reply.started": "2024-04-18T19:19:42.919636Z",
          "shell.execute_reply": "2024-04-18T19:19:42.925803Z"
        },
        "trusted": true,
        "id": "5dXmiSeY8nx3"
      },
      "execution_count": null,
      "outputs": []
    },
    {
      "cell_type": "code",
      "source": [
        "y_pred = model_grid.best_estimator_.predict(X_test)\n",
        "print(confusion_matrix(y_test, y_pred))\n",
        "print('F1-score:', f1_score(y_test, y_pred))"
      ],
      "metadata": {
        "execution": {
          "iopub.status.busy": "2024-04-18T19:19:42.928937Z",
          "iopub.execute_input": "2024-04-18T19:19:42.929523Z",
          "iopub.status.idle": "2024-04-18T19:19:42.952917Z",
          "shell.execute_reply.started": "2024-04-18T19:19:42.929252Z",
          "shell.execute_reply": "2024-04-18T19:19:42.951076Z"
        },
        "trusted": true,
        "id": "v5l9MxTk8nx3"
      },
      "execution_count": null,
      "outputs": []
    },
    {
      "cell_type": "code",
      "source": [
        "X_ros, y_ros = ros.fit_sample(X_train, y_train)\n",
        "model_grid.fit(X_ros, y_ros)"
      ],
      "metadata": {
        "execution": {
          "iopub.status.busy": "2024-04-18T19:19:42.955186Z",
          "iopub.execute_input": "2024-04-18T19:19:42.957297Z",
          "iopub.status.idle": "2024-04-18T19:20:11.734657Z",
          "shell.execute_reply.started": "2024-04-18T19:19:42.957233Z",
          "shell.execute_reply": "2024-04-18T19:20:11.733605Z"
        },
        "trusted": true,
        "id": "7gu5K2L-8nx3"
      },
      "execution_count": null,
      "outputs": []
    },
    {
      "cell_type": "code",
      "source": [
        "print('Best (hyper)parameters:', model_grid.best_params_)\n",
        "print('Best score:', model_grid.best_score_)"
      ],
      "metadata": {
        "execution": {
          "iopub.status.busy": "2024-04-18T19:20:11.739975Z",
          "iopub.execute_input": "2024-04-18T19:20:11.743232Z",
          "iopub.status.idle": "2024-04-18T19:20:11.753995Z",
          "shell.execute_reply.started": "2024-04-18T19:20:11.743149Z",
          "shell.execute_reply": "2024-04-18T19:20:11.752341Z"
        },
        "trusted": true,
        "id": "zPOHfKLL8nx3"
      },
      "execution_count": null,
      "outputs": []
    },
    {
      "cell_type": "code",
      "source": [
        "y_pred = model_grid.best_estimator_.predict(X_test)\n",
        "print(confusion_matrix(y_test, y_pred))\n",
        "print('F1-score:', f1_score(y_test, y_pred))"
      ],
      "metadata": {
        "execution": {
          "iopub.status.busy": "2024-04-18T19:20:11.756524Z",
          "iopub.execute_input": "2024-04-18T19:20:11.757308Z",
          "iopub.status.idle": "2024-04-18T19:20:11.778512Z",
          "shell.execute_reply.started": "2024-04-18T19:20:11.757236Z",
          "shell.execute_reply": "2024-04-18T19:20:11.777123Z"
        },
        "trusted": true,
        "id": "MOFr3IWq8nx3"
      },
      "execution_count": null,
      "outputs": []
    },
    {
      "cell_type": "code",
      "source": [
        "#hyperparameter tuning for mlp__activation\n",
        "\n",
        "param_grid = {'mlp__activation': ['logistic', 'tanh', 'relu']}\n",
        "#GridSearchCV is a method provided by scikit-learn that performs an\n",
        "#exhaustive search over a specified parameter grid to find the best combination\n",
        "#of hyperparameters for a given estimator (model). It's a useful tool for\n",
        "#hyperparameter tuning in machine learning.\n",
        "\n",
        "model_grid = GridSearchCV(model, param_grid, cv=5, scoring='f1',\n",
        "                          n_jobs=-1)\n",
        "model_grid.fit(X_train, y_train)"
      ],
      "metadata": {
        "execution": {
          "iopub.status.busy": "2024-04-18T19:20:11.780396Z",
          "iopub.execute_input": "2024-04-18T19:20:11.781105Z",
          "iopub.status.idle": "2024-04-18T19:20:15.205981Z",
          "shell.execute_reply.started": "2024-04-18T19:20:11.781036Z",
          "shell.execute_reply": "2024-04-18T19:20:15.20487Z"
        },
        "trusted": true,
        "id": "D1ZvFWHq8nx3"
      },
      "execution_count": null,
      "outputs": []
    },
    {
      "cell_type": "code",
      "source": [
        "plot_validation_curve(model_grid, 'mlp__activation')"
      ],
      "metadata": {
        "execution": {
          "iopub.status.busy": "2024-04-18T19:20:15.207663Z",
          "iopub.execute_input": "2024-04-18T19:20:15.208317Z",
          "iopub.status.idle": "2024-04-18T19:20:15.39341Z",
          "shell.execute_reply.started": "2024-04-18T19:20:15.208253Z",
          "shell.execute_reply": "2024-04-18T19:20:15.392353Z"
        },
        "trusted": true,
        "id": "MawAncbT8nx3"
      },
      "execution_count": null,
      "outputs": []
    },
    {
      "cell_type": "code",
      "source": [
        "print('Best (hyper)parameters:', model_grid.best_params_)\n",
        "print('Best score:', model_grid.best_score_)"
      ],
      "metadata": {
        "execution": {
          "iopub.status.busy": "2024-04-18T19:20:15.395214Z",
          "iopub.execute_input": "2024-04-18T19:20:15.395961Z",
          "iopub.status.idle": "2024-04-18T19:20:15.403999Z",
          "shell.execute_reply.started": "2024-04-18T19:20:15.395895Z",
          "shell.execute_reply": "2024-04-18T19:20:15.402515Z"
        },
        "trusted": true,
        "id": "IMw7XZKt8nx3"
      },
      "execution_count": null,
      "outputs": []
    },
    {
      "cell_type": "code",
      "source": [
        "y_pred = model_grid.best_estimator_.predict(X_test)\n",
        "print_results(y_test, y_pred)"
      ],
      "metadata": {
        "execution": {
          "iopub.status.busy": "2024-04-18T19:20:15.405926Z",
          "iopub.execute_input": "2024-04-18T19:20:15.406343Z",
          "iopub.status.idle": "2024-04-18T19:20:15.431655Z",
          "shell.execute_reply.started": "2024-04-18T19:20:15.406272Z",
          "shell.execute_reply": "2024-04-18T19:20:15.43063Z"
        },
        "trusted": true,
        "id": "Qxg6Sh6R8nx4"
      },
      "execution_count": null,
      "outputs": []
    },
    {
      "cell_type": "code",
      "source": [
        "#grid of hyperparameters to search over\n",
        "param_grid = {'mlp__hidden_layer_sizes': [(i, ) for i in range(20, 500, 20)]}\n",
        "model_grid = GridSearchCV(model, param_grid, cv=5, scoring='f1',\n",
        "                          n_jobs=-1) # n_jobs=-1 all available processors\n",
        "model_grid.fit(X_train, y_train)"
      ],
      "metadata": {
        "execution": {
          "iopub.status.busy": "2024-04-18T19:20:15.43405Z",
          "iopub.execute_input": "2024-04-18T19:20:15.436447Z",
          "iopub.status.idle": "2024-04-18T19:20:51.764815Z",
          "shell.execute_reply.started": "2024-04-18T19:20:15.436372Z",
          "shell.execute_reply": "2024-04-18T19:20:51.763661Z"
        },
        "trusted": true,
        "id": "piT1SHCj8nx4"
      },
      "execution_count": null,
      "outputs": []
    },
    {
      "cell_type": "code",
      "source": [
        "plot_validation_curve(model_grid, 'mlp__hidden_layer_sizes',\n",
        "                      [i for i in range(20, 500, 20)])"
      ],
      "metadata": {
        "execution": {
          "iopub.status.busy": "2024-04-18T19:20:51.771345Z",
          "iopub.execute_input": "2024-04-18T19:20:51.775391Z",
          "iopub.status.idle": "2024-04-18T19:20:52.006646Z",
          "shell.execute_reply.started": "2024-04-18T19:20:51.775274Z",
          "shell.execute_reply": "2024-04-18T19:20:52.004966Z"
        },
        "trusted": true,
        "id": "wRDtLfnW8nx4"
      },
      "execution_count": null,
      "outputs": []
    },
    {
      "cell_type": "code",
      "source": [
        "print('Best (hyper)parameters:', model_grid.best_params_)\n",
        "print('Best score:', model_grid.best_score_)"
      ],
      "metadata": {
        "execution": {
          "iopub.status.busy": "2024-04-18T19:20:52.008768Z",
          "iopub.execute_input": "2024-04-18T19:20:52.009231Z",
          "iopub.status.idle": "2024-04-18T19:20:52.015658Z",
          "shell.execute_reply.started": "2024-04-18T19:20:52.009159Z",
          "shell.execute_reply": "2024-04-18T19:20:52.01412Z"
        },
        "trusted": true,
        "id": "dXMYXSA28nx4"
      },
      "execution_count": null,
      "outputs": []
    },
    {
      "cell_type": "code",
      "source": [
        "y_pred = model_grid.best_estimator_.predict(X_test)\n",
        "print_results(y_test, y_pred)"
      ],
      "metadata": {
        "execution": {
          "iopub.status.busy": "2024-04-18T19:20:52.018088Z",
          "iopub.execute_input": "2024-04-18T19:20:52.018665Z",
          "iopub.status.idle": "2024-04-18T19:20:52.041145Z",
          "shell.execute_reply.started": "2024-04-18T19:20:52.018583Z",
          "shell.execute_reply": "2024-04-18T19:20:52.039986Z"
        },
        "trusted": true,
        "id": "UCYPycg38nx4"
      },
      "execution_count": null,
      "outputs": []
    },
    {
      "cell_type": "code",
      "source": [
        "param_grid = {'mlp__warm_start': [True, False]}\n",
        "model_grid = GridSearchCV(model, param_grid, cv=5, scoring='f1',\n",
        "                          n_jobs=-1)\n",
        "model_grid.fit(X_train, y_train)"
      ],
      "metadata": {
        "execution": {
          "iopub.status.busy": "2024-04-18T19:20:52.043815Z",
          "iopub.execute_input": "2024-04-18T19:20:52.045898Z",
          "iopub.status.idle": "2024-04-18T19:20:53.891619Z",
          "shell.execute_reply.started": "2024-04-18T19:20:52.045829Z",
          "shell.execute_reply": "2024-04-18T19:20:53.890629Z"
        },
        "trusted": true,
        "id": "Dgi719Yi8nx5"
      },
      "execution_count": null,
      "outputs": []
    },
    {
      "cell_type": "code",
      "source": [
        "print('Best (hyper)parameters:', model_grid.best_params_)\n",
        "print('Best score:', model_grid.best_score_)"
      ],
      "metadata": {
        "execution": {
          "iopub.status.busy": "2024-04-18T19:20:53.897212Z",
          "iopub.execute_input": "2024-04-18T19:20:53.90069Z",
          "iopub.status.idle": "2024-04-18T19:20:53.910963Z",
          "shell.execute_reply.started": "2024-04-18T19:20:53.900613Z",
          "shell.execute_reply": "2024-04-18T19:20:53.90987Z"
        },
        "trusted": true,
        "id": "R01lHt9o8nx5"
      },
      "execution_count": null,
      "outputs": []
    },
    {
      "cell_type": "code",
      "source": [
        "y_pred = model_grid.best_estimator_.predict(X_test)\n",
        "print_results(y_test, y_pred)"
      ],
      "metadata": {
        "execution": {
          "iopub.status.busy": "2024-04-18T19:20:53.912658Z",
          "iopub.execute_input": "2024-04-18T19:20:53.913379Z",
          "iopub.status.idle": "2024-04-18T19:20:53.939918Z",
          "shell.execute_reply.started": "2024-04-18T19:20:53.91332Z",
          "shell.execute_reply": "2024-04-18T19:20:53.938775Z"
        },
        "trusted": true,
        "id": "BMlv3XVQ8nx6"
      },
      "execution_count": null,
      "outputs": []
    },
    {
      "cell_type": "code",
      "source": [
        "#hyperparameter tuning for various configurations of hidden layer sizes\n",
        "\n",
        "hidden = [(100,), (100, 50), (100, 50, 20), (50, 50), (50, 50, 50), (50, 30, 30, 20)]\n",
        "# grid of hyperparameters to search over\n",
        "param_grid = {'mlp__hidden_layer_sizes': hidden}\n",
        "model_grid = GridSearchCV(model, param_grid, cv=5, scoring='f1',\n",
        "                          n_jobs=-1)\n",
        "model_grid.fit(X_train, y_train)"
      ],
      "metadata": {
        "execution": {
          "iopub.status.busy": "2024-04-18T19:20:53.944705Z",
          "iopub.execute_input": "2024-04-18T19:20:53.949274Z",
          "iopub.status.idle": "2024-04-18T19:20:58.92093Z",
          "shell.execute_reply.started": "2024-04-18T19:20:53.949164Z",
          "shell.execute_reply": "2024-04-18T19:20:58.919819Z"
        },
        "trusted": true,
        "id": "go-pw47s8nx6"
      },
      "execution_count": null,
      "outputs": []
    },
    {
      "cell_type": "code",
      "source": [
        "plot_validation_curve(model_grid, 'mlp__hidden_layer_sizes',\n",
        "                      [str(x) for x in hidden])"
      ],
      "metadata": {
        "execution": {
          "iopub.status.busy": "2024-04-18T19:20:58.92791Z",
          "iopub.execute_input": "2024-04-18T19:20:58.929079Z",
          "iopub.status.idle": "2024-04-18T19:20:59.166117Z",
          "shell.execute_reply.started": "2024-04-18T19:20:58.929012Z",
          "shell.execute_reply": "2024-04-18T19:20:59.165006Z"
        },
        "trusted": true,
        "id": "mp1stlJt8nx6"
      },
      "execution_count": null,
      "outputs": []
    },
    {
      "cell_type": "code",
      "source": [
        "print('Best (hyper)parameters:', model_grid.best_params_)\n",
        "print('Best score:', model_grid.best_score_)"
      ],
      "metadata": {
        "execution": {
          "iopub.status.busy": "2024-04-18T19:20:59.167968Z",
          "iopub.execute_input": "2024-04-18T19:20:59.168437Z",
          "iopub.status.idle": "2024-04-18T19:20:59.178615Z",
          "shell.execute_reply.started": "2024-04-18T19:20:59.168356Z",
          "shell.execute_reply": "2024-04-18T19:20:59.177006Z"
        },
        "trusted": true,
        "id": "gC2tytlN8nyB"
      },
      "execution_count": null,
      "outputs": []
    },
    {
      "cell_type": "code",
      "source": [
        "y_pred = model_grid.best_estimator_.predict(X_test)\n",
        "print_results(y_test, y_pred)"
      ],
      "metadata": {
        "execution": {
          "iopub.status.busy": "2024-04-18T19:20:59.180586Z",
          "iopub.execute_input": "2024-04-18T19:20:59.181045Z",
          "iopub.status.idle": "2024-04-18T19:20:59.204289Z",
          "shell.execute_reply.started": "2024-04-18T19:20:59.180977Z",
          "shell.execute_reply": "2024-04-18T19:20:59.202998Z"
        },
        "trusted": true,
        "id": "8M54AMA-8nyC"
      },
      "execution_count": null,
      "outputs": []
    },
    {
      "cell_type": "code",
      "source": [
        "print(df['depressed'].value_counts())\n",
        "print(len(df['depressed']))"
      ],
      "metadata": {
        "execution": {
          "iopub.status.busy": "2024-04-18T19:20:59.211714Z",
          "iopub.execute_input": "2024-04-18T19:20:59.212239Z",
          "iopub.status.idle": "2024-04-18T19:20:59.221567Z",
          "shell.execute_reply.started": "2024-04-18T19:20:59.212159Z",
          "shell.execute_reply": "2024-04-18T19:20:59.220624Z"
        },
        "trusted": true,
        "id": "0FXYWXDR8nyC"
      },
      "execution_count": null,
      "outputs": []
    },
    {
      "cell_type": "code",
      "source": [
        "import matplotlib.pyplot as plt\n",
        "import seaborn as sns\n",
        "\n",
        "# Explore the relationship between depression and age\n",
        "plt.figure(figsize=(10, 6))\n",
        "sns.distplot(df['Age'][df['depressed'] == 1], kde=False, hist=True, label='Depressed')\n",
        "# sns.distplot(df['Age'][df['depressed'] == 0], kde=True, hist=True, label='Not Depressed')\n",
        "plt.title('Age Distribution by Depression Status')\n",
        "plt.xlabel('Age')\n",
        "plt.ylabel('Density')\n",
        "plt.legend()\n",
        "plt.show()"
      ],
      "metadata": {
        "execution": {
          "iopub.status.busy": "2024-04-18T19:20:59.223348Z",
          "iopub.execute_input": "2024-04-18T19:20:59.224061Z",
          "iopub.status.idle": "2024-04-18T19:20:59.49431Z",
          "shell.execute_reply.started": "2024-04-18T19:20:59.224001Z",
          "shell.execute_reply": "2024-04-18T19:20:59.493477Z"
        },
        "trusted": true,
        "id": "w_yAAZRG8nyC"
      },
      "execution_count": null,
      "outputs": []
    },
    {
      "cell_type": "code",
      "source": [
        "# Analyze relationship between 'depressed' and categorical features\n",
        "plt.figure(figsize=(6, 4))\n",
        "sns.countplot(data=df, x='sex', hue='depressed')\n",
        "plt.show()"
      ],
      "metadata": {
        "execution": {
          "iopub.status.busy": "2024-04-18T19:20:59.495827Z",
          "iopub.execute_input": "2024-04-18T19:20:59.496171Z",
          "iopub.status.idle": "2024-04-18T19:20:59.657186Z",
          "shell.execute_reply.started": "2024-04-18T19:20:59.496115Z",
          "shell.execute_reply": "2024-04-18T19:20:59.655866Z"
        },
        "trusted": true,
        "id": "JiUeCakz8nyC"
      },
      "execution_count": null,
      "outputs": []
    },
    {
      "cell_type": "code",
      "source": [
        "# Explore relationships between multiple features\n",
        "plt.figure(figsize=(10, 8))\n",
        "sns.pairplot(df, vars=['Age', 'education_level', 'total_members', 'gained_asset'], hue='depressed')\n",
        "plt.show()"
      ],
      "metadata": {
        "execution": {
          "iopub.status.busy": "2024-04-18T19:20:59.659Z",
          "iopub.execute_input": "2024-04-18T19:20:59.659641Z",
          "iopub.status.idle": "2024-04-18T19:21:05.413575Z",
          "shell.execute_reply.started": "2024-04-18T19:20:59.659378Z",
          "shell.execute_reply": "2024-04-18T19:21:05.411999Z"
        },
        "trusted": true,
        "id": "aSREl2pQ8nyC"
      },
      "execution_count": null,
      "outputs": []
    },
    {
      "cell_type": "code",
      "source": [
        "# Check for multicollinearity\n",
        "plt.figure(figsize=(20,20))\n",
        "sns.heatmap(df.corr(), annot=True, cmap='coolwarm')\n",
        "plt.show()"
      ],
      "metadata": {
        "execution": {
          "iopub.status.busy": "2024-04-18T19:21:05.41554Z",
          "iopub.execute_input": "2024-04-18T19:21:05.416001Z",
          "iopub.status.idle": "2024-04-18T19:21:08.136099Z",
          "shell.execute_reply.started": "2024-04-18T19:21:05.415934Z",
          "shell.execute_reply": "2024-04-18T19:21:08.134954Z"
        },
        "trusted": true,
        "id": "Kh3p6Eas8nyD"
      },
      "execution_count": null,
      "outputs": []
    },
    {
      "cell_type": "code",
      "source": [
        "# import matplotlib.pyplot as plt\n",
        "# import seaborn as sns\n",
        "\n",
        "# # Explore the relationship between depression and age\n",
        "# plt.figure(figsize=(10, 6))\n",
        "# sns.distplot(df['income_diversity'][df['depressed'] == 1], kde=False, hist=True, label='Depressed')\n",
        "# # sns.distplot(df['Age'][df['depressed'] == 0], kde=True, hist=True, label='Not Depressed')\n",
        "# plt.title('Income Distribution by Depression Status')\n",
        "# plt.xlabel('Income')\n",
        "# plt.ylabel('Density')\n",
        "# plt.legend()\n",
        "# plt.show()"
      ],
      "metadata": {
        "execution": {
          "iopub.status.busy": "2024-04-18T19:21:08.137603Z",
          "iopub.execute_input": "2024-04-18T19:21:08.137996Z",
          "iopub.status.idle": "2024-04-18T19:21:08.142267Z",
          "shell.execute_reply.started": "2024-04-18T19:21:08.13794Z",
          "shell.execute_reply": "2024-04-18T19:21:08.141304Z"
        },
        "trusted": true,
        "id": "CeIrmKTf8nyD"
      },
      "execution_count": null,
      "outputs": []
    },
    {
      "cell_type": "code",
      "source": [
        "df.describe()"
      ],
      "metadata": {
        "execution": {
          "iopub.status.busy": "2024-04-18T19:21:08.143865Z",
          "iopub.execute_input": "2024-04-18T19:21:08.144227Z",
          "iopub.status.idle": "2024-04-18T19:21:08.23764Z",
          "shell.execute_reply.started": "2024-04-18T19:21:08.144161Z",
          "shell.execute_reply": "2024-04-18T19:21:08.236582Z"
        },
        "trusted": true,
        "id": "TqYp7H_f8nyF"
      },
      "execution_count": null,
      "outputs": []
    },
    {
      "cell_type": "code",
      "source": [
        "# Explore the relationship between depression and marital status\n",
        "marital_counts = df.groupby(['Married', 'depressed'])['Survey_id'].count().unstack('depressed')\n",
        "print(marital_counts)"
      ],
      "metadata": {
        "execution": {
          "iopub.status.busy": "2024-04-18T19:21:08.2394Z",
          "iopub.execute_input": "2024-04-18T19:21:08.23981Z",
          "iopub.status.idle": "2024-04-18T19:21:08.254044Z",
          "shell.execute_reply.started": "2024-04-18T19:21:08.23974Z",
          "shell.execute_reply": "2024-04-18T19:21:08.252172Z"
        },
        "trusted": true,
        "id": "LmrgObpZ8nyF"
      },
      "execution_count": null,
      "outputs": []
    },
    {
      "cell_type": "code",
      "source": [
        "# Explore the relationship between depression and education level\n",
        "plt.figure(figsize=(10, 6))\n",
        "sns.countplot(data=df, x='education_level', hue='depressed')\n",
        "plt.title('Education Level Distribution by Depression Status')\n",
        "plt.xticks(rotation=45)\n",
        "plt.show()"
      ],
      "metadata": {
        "execution": {
          "iopub.status.busy": "2024-04-18T19:21:08.255673Z",
          "iopub.execute_input": "2024-04-18T19:21:08.25607Z",
          "iopub.status.idle": "2024-04-18T19:21:08.619052Z",
          "shell.execute_reply.started": "2024-04-18T19:21:08.256013Z",
          "shell.execute_reply": "2024-04-18T19:21:08.617714Z"
        },
        "trusted": true,
        "id": "x9aPwFkK8nyG"
      },
      "execution_count": null,
      "outputs": []
    },
    {
      "cell_type": "code",
      "source": [
        "# Explore the relationship between depression and income sources\n",
        "income_sources = ['incoming_salary', 'incoming_own_farm', 'incoming_business', 'incoming_no_business', 'incoming_agricultural']\n",
        "income_counts = df.groupby(['depressed'])[income_sources].sum()\n",
        "print(income_counts)"
      ],
      "metadata": {
        "execution": {
          "iopub.status.busy": "2024-04-18T19:21:08.621037Z",
          "iopub.execute_input": "2024-04-18T19:21:08.62152Z",
          "iopub.status.idle": "2024-04-18T19:21:08.640843Z",
          "shell.execute_reply.started": "2024-04-18T19:21:08.621443Z",
          "shell.execute_reply": "2024-04-18T19:21:08.639389Z"
        },
        "trusted": true,
        "id": "f5iSuTb_8nyG"
      },
      "execution_count": null,
      "outputs": []
    }
  ]
}