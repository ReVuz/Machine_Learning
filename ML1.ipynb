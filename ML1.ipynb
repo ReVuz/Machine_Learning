{
  "nbformat": 4,
  "nbformat_minor": 0,
  "metadata": {
    "colab": {
      "provenance": [],
      "authorship_tag": "ABX9TyNB5DZNXWO7gGYQVTAFxsoK",
      "include_colab_link": true
    },
    "kernelspec": {
      "name": "python3",
      "display_name": "Python 3"
    },
    "language_info": {
      "name": "python"
    }
  },
  "cells": [
    {
      "cell_type": "markdown",
      "metadata": {
        "id": "view-in-github",
        "colab_type": "text"
      },
      "source": [
        "<a href=\"https://colab.research.google.com/github/ReVuz/Machine_Learning/blob/main/ML1.ipynb\" target=\"_parent\"><img src=\"https://colab.research.google.com/assets/colab-badge.svg\" alt=\"Open In Colab\"/></a>"
      ]
    },
    {
      "cell_type": "markdown",
      "source": [
        "# TYPES OF CROSS VALIDATION\n",
        "\n",
        "\n",
        "\n",
        "\n",
        "*   K-fold cross-validation\n",
        "*   Hold-out cross-validation\n",
        "\n",
        "*   Stratified k-fold cross-validation\n",
        "*   Leave-p-out cross-validation\n",
        "\n",
        "*   Leave-one-out cross-validation\n",
        "*   Monte Carlo (shuffle-split)\n",
        "\n",
        "*   Time series (rolling cross-validation)\n",
        "\n",
        "\n",
        "\n"
      ],
      "metadata": {
        "id": "2mAjXP97Qyfo"
      }
    },
    {
      "cell_type": "code",
      "source": [
        "#K-fold cross-validation\n",
        "from sklearn.datasets import load_iris\n",
        "from sklearn.model_selection import cross_val_score,KFold\n",
        "from sklearn.linear_model import LogisticRegression\n",
        "\n",
        "iris = load_iris()\n",
        "X=iris.data\n",
        "Y=iris.target\n",
        "lr=LogisticRegression(max_iter=1000)\n",
        "k_fold = KFold(n_splits=7)\n",
        "score = cross_val_score(lr,X,Y,cv=k_fold)\n",
        "print(\"Cross_Validation_Score :{}\".format(score))\n",
        "print(\"Average Cross Validation Score :{}\".format(score.mean()))"
      ],
      "metadata": {
        "colab": {
          "base_uri": "https://localhost:8080/"
        },
        "id": "4DvfvWq9RPGX",
        "outputId": "f1cb05b8-22a2-41e9-d0d8-71812b2ff98f"
      },
      "execution_count": null,
      "outputs": [
        {
          "output_type": "stream",
          "name": "stdout",
          "text": [
            "Cross_Validation_Score :[1.         1.         1.         0.80952381 0.95238095 0.85714286\n",
            " 0.9047619 ]\n",
            "Average Cross Validation Score :0.9319727891156463\n"
          ]
        }
      ]
    },
    {
      "cell_type": "code",
      "source": [
        "#Holdout cross-validation\n",
        "from sklearn.datasets import load_iris\n",
        "from sklearn.model_selection import train_test_split\n",
        "from sklearn.linear_model import LogisticRegression\n",
        "from sklearn.metrics import accuracy_score\n",
        "\n",
        "iris = load_iris()\n",
        "X=iris.data\n",
        "Y=iris.target\n",
        "lr=LogisticRegression(max_iter = 1000)\n",
        "X_train,X_test,y_train,y_test = train_test_split(X,Y,test_size=0.25,random_state=42)\n",
        "lr.fit(X_train,y_train)\n",
        "results = lr.predict(X_test)\n",
        "print(\"Training accuracy : {}\".format(accuracy_score(lr.predict(X_train),y_train)))\n",
        "print(\"Testing accuracy:{}\".format(accuracy_score(results,y_test)))"
      ],
      "metadata": {
        "colab": {
          "base_uri": "https://localhost:8080/"
        },
        "id": "ysXtjxxlHcm4",
        "outputId": "1173dec9-00fc-45ad-f98a-8b98a9058b1f"
      },
      "execution_count": null,
      "outputs": [
        {
          "output_type": "stream",
          "name": "stdout",
          "text": [
            "Training accuracy : 0.9642857142857143\n",
            "Testing accuracy:1.0\n"
          ]
        }
      ]
    },
    {
      "cell_type": "code",
      "source": [
        "#Stratified KFold Cross-Validation\n",
        "from sklearn.datasets import load_iris\n",
        "from sklearn.linear_model import LogisticRegression\n",
        "from sklearn.model_selection import cross_val_score,StratifiedKFold\n",
        "\n",
        "iris = load_iris()\n",
        "X = iris.data\n",
        "y = iris.target\n",
        "lr = LogisticRegression(max_iter = 1000)\n",
        "st_kf = StratifiedKFold(n_splits = 3)\n",
        "score = cross_val_score(lr,X,y,cv = st_kf)\n",
        "\n",
        "print(\"Cross Validation Score :{}\".format(score))\n",
        "print(\"Average Cross Validation Score : {}\".format(score.mean()))"
      ],
      "metadata": {
        "colab": {
          "base_uri": "https://localhost:8080/"
        },
        "id": "_ZIpkkbTLbOh",
        "outputId": "bff42b27-850c-476e-b1c5-d270941e2f7c"
      },
      "execution_count": null,
      "outputs": [
        {
          "output_type": "stream",
          "name": "stdout",
          "text": [
            "Cross Validation Score :[0.98 0.96 0.98]\n",
            "Average Cross Validation Score : 0.9733333333333333\n"
          ]
        }
      ]
    },
    {
      "cell_type": "code",
      "source": [
        "from sklearn.datasets import load_iris\n",
        "from sklearn.model_selection import LeavePOut,cross_val_score\n",
        "from sklearn.ensemble import RandomForestClassifier\n",
        "\n",
        "iris = load_iris()\n",
        "X = iris.data\n",
        "y = iris.target\n",
        "lpo = LeavePOut(p = 1)\n",
        "lpo.get_n_splits(X)\n",
        "tree = RandomForestClassifier(n_estimators = 5 ,max_depth = 3, n_jobs = -1)\n",
        "score = cross_val_score(tree,X,y,cv= lpo)\n",
        "print(\"Cross Validation Score : {}\".format(score))\n",
        "print(\"Average Cross Validation Score : {}\".format(score.mean()))"
      ],
      "metadata": {
        "colab": {
          "base_uri": "https://localhost:8080/"
        },
        "id": "75Q6gb1TMtpt",
        "outputId": "127b5251-5293-4e88-8890-2d9c172125b5"
      },
      "execution_count": null,
      "outputs": [
        {
          "output_type": "stream",
          "name": "stdout",
          "text": [
            "Cross Validation Score : [1. 1. 1. 1. 1. 1. 1. 1. 1. 1. 1. 1. 1. 1. 1. 1. 1. 1. 1. 1. 1. 1. 1. 1.\n",
            " 1. 1. 1. 1. 1. 1. 1. 1. 1. 1. 1. 1. 1. 1. 1. 1. 1. 1. 1. 1. 1. 1. 1. 1.\n",
            " 1. 1. 1. 1. 1. 1. 1. 1. 1. 1. 1. 1. 1. 1. 1. 1. 1. 1. 1. 1. 1. 1. 0. 1.\n",
            " 1. 1. 1. 1. 1. 0. 1. 1. 1. 1. 1. 0. 1. 1. 1. 1. 1. 1. 1. 1. 1. 1. 1. 1.\n",
            " 1. 1. 1. 1. 1. 1. 1. 1. 1. 1. 0. 1. 1. 1. 1. 1. 1. 1. 1. 1. 1. 1. 1. 0.\n",
            " 1. 1. 1. 1. 1. 1. 1. 1. 1. 1. 1. 1. 1. 0. 0. 1. 1. 1. 0. 1. 1. 1. 1. 1.\n",
            " 1. 1. 1. 1. 1. 1.]\n",
            "Average Cross Validation Score : 0.9466666666666667\n"
          ]
        }
      ]
    },
    {
      "cell_type": "code",
      "source": [
        "# Leave-one-out cross-validation\n",
        "from sklearn.datasets import load_iris\n",
        "from sklearn.ensemble import RandomForestClassifier\n",
        "from sklearn.model_selection import LeaveOneOut,cross_val_score\n",
        "\n",
        "iris = load_iris()\n",
        "X = iris.data\n",
        "y = iris.target\n",
        "leave_one_out = LeaveOneOut()\n",
        "rfc = RandomForestClassifier(n_estimators = 7 , max_depth = 4 , n_jobs = -1)\n",
        "score = cross_val_score(rfc,X,y,cv = leave_one_out)\n",
        "print(\"Cross Validation Score : {}\".format(score))\n",
        "print(\"Average Cross Validation Score : {}\".format(score.mean()))"
      ],
      "metadata": {
        "colab": {
          "base_uri": "https://localhost:8080/"
        },
        "id": "bZMLLytrQz4p",
        "outputId": "095c5c7f-147b-4c60-ec61-26105e308d7c"
      },
      "execution_count": null,
      "outputs": [
        {
          "output_type": "stream",
          "name": "stdout",
          "text": [
            "Cross Validation Score : [1. 1. 1. 1. 1. 1. 1. 1. 1. 1. 1. 1. 1. 1. 1. 1. 1. 1. 1. 1. 1. 1. 1. 1.\n",
            " 1. 1. 1. 1. 1. 1. 1. 1. 1. 1. 1. 1. 1. 1. 1. 1. 1. 1. 1. 1. 1. 1. 1. 1.\n",
            " 1. 1. 1. 1. 1. 1. 1. 1. 1. 1. 1. 1. 1. 1. 1. 1. 1. 1. 1. 1. 1. 1. 0. 1.\n",
            " 1. 1. 1. 1. 1. 0. 1. 1. 1. 1. 1. 0. 1. 1. 1. 1. 1. 1. 1. 1. 1. 1. 1. 1.\n",
            " 1. 1. 1. 1. 1. 1. 1. 1. 1. 1. 0. 1. 1. 1. 1. 1. 1. 1. 1. 1. 1. 1. 1. 0.\n",
            " 1. 1. 1. 1. 1. 1. 1. 1. 1. 0. 1. 1. 1. 1. 1. 1. 1. 1. 1. 1. 1. 1. 1. 1.\n",
            " 1. 1. 1. 1. 1. 1.]\n",
            "Average Cross Validation Score : 0.96\n"
          ]
        }
      ]
    },
    {
      "cell_type": "code",
      "source": [
        "# Monte Carlo cross-validation(Shuffle Split)\n",
        "from sklearn.datasets import load_iris\n",
        "from sklearn.model_selection import ShuffleSplit,cross_val_score\n",
        "from sklearn.linear_model import LogisticRegression\n",
        "\n",
        "iris = load_iris()\n",
        "lr = LogisticRegression(max_iter = 1000)\n",
        "shuffle_split = ShuffleSplit(test_size = 0.3,train_size = 0.5 , n_splits= 6)\n",
        "score = cross_val_score(lr,iris.data,iris.target,cv = shuffle_split)\n",
        "print(\"Cross Validation Score : {}\".format(score))\n",
        "print(\"Average Cross Validation Score : {}\".format(score.mean()))"
      ],
      "metadata": {
        "id": "G1RIMvHQR4nt",
        "outputId": "e615ee81-2f3c-4fb9-d1cc-1b56f4b1f61c",
        "colab": {
          "base_uri": "https://localhost:8080/"
        }
      },
      "execution_count": 5,
      "outputs": [
        {
          "output_type": "stream",
          "name": "stdout",
          "text": [
            "Cross Validation Score : [0.93333333 0.95555556 0.95555556 0.95555556 0.97777778 0.97777778]\n",
            "Average Cross Validation Score : 0.9592592592592593\n"
          ]
        }
      ]
    },
    {
      "cell_type": "code",
      "source": [
        "#Time Series(rolling cross-validation / forward chaining method)\n",
        "import numpy as np\n",
        "from sklearn.model_selection import TimeSeriesSplit\n",
        "\n",
        "X = np.array([[1,2],[3,4],[1,2],[3,4],[1,2],[3,4],[1,1],[2,2]])\n",
        "y = np.array([1,2,3,4,5,6,7,8])\n",
        "tscv = TimeSeriesSplit(n_splits = 7)\n",
        "print(tscv)\n",
        "i=1\n",
        "for train_index, test_index in tscv.split(X):\n",
        "  print(f\"Train {i}: \",train_index,\"Test : \",test_index)\n",
        "  X_train,X_test = X[train_index],X[test_index]\n",
        "  y_train,y_test = y[train_index],y[test_index]\n",
        "  i += 1"
      ],
      "metadata": {
        "id": "Ruvh6aNMv-PH",
        "outputId": "dd9f4c74-e1c9-4fc2-9ea4-ca093a6e945a",
        "colab": {
          "base_uri": "https://localhost:8080/"
        }
      },
      "execution_count": 10,
      "outputs": [
        {
          "output_type": "stream",
          "name": "stdout",
          "text": [
            "TimeSeriesSplit(gap=0, max_train_size=None, n_splits=7, test_size=None)\n",
            "Train 1:  [0] Test :  [1]\n",
            "Train 2:  [0 1] Test :  [2]\n",
            "Train 3:  [0 1 2] Test :  [3]\n",
            "Train 4:  [0 1 2 3] Test :  [4]\n",
            "Train 5:  [0 1 2 3 4] Test :  [5]\n",
            "Train 6:  [0 1 2 3 4 5] Test :  [6]\n",
            "Train 7:  [0 1 2 3 4 5 6] Test :  [7]\n"
          ]
        }
      ]
    },
    {
      "cell_type": "code",
      "source": [],
      "metadata": {
        "id": "DaPk8bNBxmC9"
      },
      "execution_count": null,
      "outputs": []
    }
  ]
}